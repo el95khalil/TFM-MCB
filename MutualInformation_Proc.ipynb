{
 "cells": [
  {
   "cell_type": "code",
   "execution_count": 3,
   "metadata": {},
   "outputs": [],
   "source": [
    "#load necessary libraries \n",
    "import numpy as np\n",
    "import pandas as pd\n",
    "from sklearn.feature_selection import mutual_info_classif\n",
    "import matplotlib.pyplot as plt\n",
    "import seaborn as sns"
   ]
  },
  {
   "cell_type": "code",
   "execution_count": 4,
   "metadata": {},
   "outputs": [],
   "source": [
    "#load the data\n",
    "df = pd.read_csv('disorder_concept.csv', header= 0) \n",
    "\n",
    "#split the data\n",
    "X = pd.crosstab(df.diseaseName,df.symptomName)\n",
    "y= X.index.tolist()\n",
    "\n",
    "#apply mutual_information classifier\n",
    "mu_info = mutual_info_classif(X.to_numpy(), y, discrete_features=True)\n"
   ]
  },
  {
   "cell_type": "code",
   "execution_count": 5,
   "metadata": {},
   "outputs": [
    {
     "name": "stdout",
     "output_type": "stream",
     "text": [
      "[0.01114743 0.12311225 0.0024869  ... 0.08611039 0.01704428 0.00845111]\n"
     ]
    }
   ],
   "source": [
    "#show results\n",
    "print(mu_info)"
   ]
  },
  {
   "cell_type": "code",
   "execution_count": 9,
   "metadata": {},
   "outputs": [
    {
     "data": {
      "image/png": "[encoded data removed]",
      "text/plain": [
       "<Figure size 432x288 with 1 Axes>"
      ]
     },
     "metadata": {
      "needs_background": "light"
     },
     "output_type": "display_data"
    }
   ],
   "source": [
    "#plot results\n",
    "ax= sns.distplot(mu_info, hist=True, kde=False, bins='auto', color='blue', hist_kws={'edgecolor':'black'})\n",
    "ax.set(xlabel='Mutual Information',ylabel='Count')\n",
    "plt.title('Histogram of Mutual Information Distribution')\n",
    "plt.savefig('MI.png')"
   ]
  },
  {
   "cell_type": "code",
   "execution_count": null,
   "metadata": {},
   "outputs": [],
   "source": []
  }
 ],
 "metadata": {
  "kernelspec": {
   "display_name": "Python 3",
   "language": "python",
   "name": "python3"
  },
  "language_info": {
   "codemirror_mode": {
    "name": "ipython",
    "version": 3
   },
   "file_extension": ".py",
   "mimetype": "text/x-python",
   "name": "python",
   "nbconvert_exporter": "python",
   "pygments_lexer": "ipython3",
   "version": "3.7.4"
  }
 },
 "nbformat": 4,
 "nbformat_minor": 2
}
